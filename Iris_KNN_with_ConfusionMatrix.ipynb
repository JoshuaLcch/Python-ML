{
 "cells": [
  {
   "cell_type": "code",
   "execution_count": 1,
   "metadata": {},
   "outputs": [
    {
     "name": "stdout",
     "output_type": "stream",
     "text": [
      "[[50.  0.  0.]\n",
      " [ 0. 47.  3.]\n",
      " [ 0.  3. 47.]]\n",
      "[[50.  0.  0.]\n",
      " [ 0. 47.  3.]\n",
      " [ 0.  3. 47.]]\n",
      "[[50.  0.  0.]\n",
      " [ 0. 47.  3.]\n",
      " [ 0.  3. 47.]]\n",
      "[[50.  0.  0.]\n",
      " [ 0. 47.  3.]\n",
      " [ 0.  3. 47.]]\n",
      "[[50.  0.  0.]\n",
      " [ 0. 47.  3.]\n",
      " [ 0.  2. 48.]]\n",
      "[[50.  0.  0.]\n",
      " [ 0. 47.  3.]\n",
      " [ 0.  3. 47.]]\n",
      "[[50.  0.  0.]\n",
      " [ 0. 46.  4.]\n",
      " [ 0.  1. 49.]]\n",
      "[[50.  0.  0.]\n",
      " [ 0. 47.  3.]\n",
      " [ 0.  2. 48.]]\n",
      "[[50.  0.  0.]\n",
      " [ 0. 47.  3.]\n",
      " [ 0.  2. 48.]]\n",
      "[[50.  0.  0.]\n",
      " [ 0. 46.  4.]\n",
      " [ 0.  3. 47.]]\n"
     ]
    }
   ],
   "source": [
    "# -*- coding: utf-8 -*-\n",
    "\"\"\"\n",
    "Created on Wed Oct 24 20:36:03 2018\n",
    "\n",
    "@author: joshua\n",
    "\"\"\"\n",
    "from collections import Counter\n",
    "from sklearn import datasets\n",
    "import numpy as np\n",
    "\n",
    "iris = datasets.load_iris()\n",
    "X = iris.data\n",
    "X1 = (X - np.tile(X.mean(0), (X.shape[0],1)))/np.tile(X.std(0),(X.shape[0],1))#std score\n",
    "#X2 = (X - np.tile(X.min(0), (X.shape[0],1)))/np.tile(X.max(0) - X.min(0), (X.shape[0],1))#scaling\n",
    "target = iris.target\n",
    "N = X.shape[0]\n",
    "CF = np.zeros((3,3))\n",
    "\n",
    "\n",
    "def KNN(test,train,target,K):\n",
    "    N = train.shape[0]\n",
    "    dist = np.sum((np.tile(test,(N,1))-train)**2,1)\n",
    "    idx = sorted(range(len(dist)),key=lambda i:dist[i])[0:K]\n",
    "    return Counter(target[idx]).most_common(1)[0][0]\n",
    "\n",
    "iris = datasets.load_iris()\n",
    "X = iris.data\n",
    "target = iris.target\n",
    "N = X.shape[0]\n",
    "CF = np.zeros((3,3))\n",
    "\n",
    "for j in range(1, 11):\n",
    "    for i in range(N):\n",
    "        train_idx = np.setdiff1d(np.arange(N),i)\n",
    "        guess = KNN(X[i,:],X[train_idx,:],target[train_idx],j)\n",
    "        CF[target[i],guess] = CF[target[i],guess]+1\n",
    "    print(CF)\n",
    "    CF = np.zeros((3,3))"
   ]
  }
 ],
 "metadata": {
  "kernelspec": {
   "display_name": "Python 3",
   "language": "python",
   "name": "python3"
  },
  "language_info": {
   "codemirror_mode": {
    "name": "ipython",
    "version": 3
   },
   "file_extension": ".py",
   "mimetype": "text/x-python",
   "name": "python",
   "nbconvert_exporter": "python",
   "pygments_lexer": "ipython3",
   "version": "3.8.5"
  }
 },
 "nbformat": 4,
 "nbformat_minor": 4
}
