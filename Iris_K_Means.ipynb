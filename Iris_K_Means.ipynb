{
 "cells": [
  {
   "cell_type": "code",
   "execution_count": 1,
   "metadata": {},
   "outputs": [
    {
     "name": "stdout",
     "output_type": "stream",
     "text": [
      "with-in class difference:\n",
      "\n"
     ]
    },
    {
     "data": {
      "image/png": "[encoded data removed]",
      "text/plain": [
       "<Figure size 432x288 with 1 Axes>"
      ]
     },
     "metadata": {
      "needs_background": "light"
     },
     "output_type": "display_data"
    },
    {
     "name": "stdout",
     "output_type": "stream",
     "text": [
      "wicd: 291.6102540833085\n",
      "standard score:\n",
      "\n"
     ]
    },
    {
     "data": {
      "image/png": "[encoded data removed]",
      "text/plain": [
       "<Figure size 432x288 with 1 Axes>"
      ]
     },
     "metadata": {
      "needs_background": "light"
     },
     "output_type": "display_data"
    },
    {
     "name": "stdout",
     "output_type": "stream",
     "text": [
      "wicd: 128.99771709880827\n",
      "scaling:\n",
      "\n"
     ]
    },
    {
     "data": {
      "image/png": "[encoded data removed]",
      "text/plain": [
       "<Figure size 432x288 with 1 Axes>"
      ]
     },
     "metadata": {
      "needs_background": "light"
     },
     "output_type": "display_data"
    },
    {
     "name": "stdout",
     "output_type": "stream",
     "text": [
      "wicd: 29.436129527525683\n"
     ]
    }
   ],
   "source": [
    "# -*- coding: utf-8 -*-\n",
    "\"\"\"\n",
    "Created on Wed Oct 24 20:18:39 2018\n",
    "\n",
    "@author: user\n",
    "\"\"\"\n",
    "\n",
    "from sklearn import datasets\n",
    "import numpy as np\n",
    "import matplotlib.pyplot as plt\n",
    "import random\n",
    "\n",
    "iris = datasets.load_iris()\n",
    "X = iris.data\n",
    "X1 = (X - np.tile(X.mean(0), (X.shape[0],1)))/np.tile(X.std(0),(X.shape[0],1))#std score\n",
    "X2 = (X - np.tile(X.min(0), (X.shape[0],1)))/np.tile(X.max(0) - X.min(0), (X.shape[0],1))#scaling\n",
    "#----------------------------------------------------------------------\n",
    "#if the data are far from each other\n",
    "#def normalization()\n",
    "#----------------------------------------------------------------------\n",
    "def kmeans(sample, K, max_it):\n",
    "    N = sample.shape[0]#total sample number\n",
    "    D = sample.shape[1]#sample dimention\n",
    "    idx = random.sample(range(N), K)#從N中產生K個sample\n",
    "    C = np.zeros((K, D))#K center\n",
    "    L = np.zeros((N, 1))#group no. of each sample\n",
    "    dist = np.zeros((N, K))\n",
    "    it = 0\n",
    "    while(it<max_it):\n",
    "        for i in range(K):\n",
    "            dist[:,i] = np.sum((sample-np.tile(C[i,:],(N,1)))**2,1)#算距離(矩正相減)\n",
    "        L1 = np.argmin(dist,1)#跟哪個點最近\n",
    "        if(it>0 and np.array_equal(L,L1)):\n",
    "            break\n",
    "        L = L1\n",
    "        for i in range(K):\n",
    "            idx = np.nonzero(L==i)[0]\n",
    "            if(len(idx)>0):\n",
    "                C[i,:]=np.mean(sample[idx,:],0)\n",
    "        it+=1\n",
    "    wicd = np.sum(np.sqrt(np.sum((sample - C[L,:])**2, axis=1)))#within class distance\n",
    "    return C,L, wicd #C:k centers, L:which center do those point classified to\n",
    "\n",
    "C,L,wicd = kmeans(X,3,1000)\n",
    "G1 = X[L==0,:]\n",
    "G2 = X[L==1,:]\n",
    "G3 = X[L==2,:]\n",
    "plt.plot(G1[:, 0], G1[:, 1],'r.', G2[:, 0], G2[:, 1],'g.', G3[:, 0], G3[:, 1],'b.')\n",
    "plt.plot(C[:,0],C[:,1],'kx')#draw center as x\n",
    "print(\"with-in class difference:\\n\")\n",
    "plt.show()\n",
    "print('wicd:',wicd)\n",
    "\n",
    "C,L,wicd = kmeans(X1,3,1000)\n",
    "G1 = X1[L==0,:]\n",
    "G2 = X1[L==1,:]\n",
    "G3 = X1[L==2,:]\n",
    "plt.plot(G1[:, 0], G1[:, 1],'r.', G2[:, 0], G2[:, 1],'g.', G3[:, 0], G3[:, 1],'b.')\n",
    "plt.plot(C[:,0],C[:,1],'kx')#draw center as x\n",
    "print(\"standard score:\\n\")\n",
    "plt.show()\n",
    "print('wicd:',wicd)\n",
    "\n",
    "C,L,wicd = kmeans(X2,3,1000)\n",
    "G1 = X2[L==0,:]\n",
    "G2 = X2[L==1,:]\n",
    "G3 = X2[L==2,:]\n",
    "plt.plot(G1[:, 0], G1[:, 1],'r.', G2[:, 0], G2[:, 1],'g.', G3[:, 0], G3[:, 1],'b.')\n",
    "plt.plot(C[:,0],C[:,1],'kx')#draw center as x\n",
    "print(\"scaling:\\n\")\n",
    "plt.show()\n",
    "print('wicd:',wicd)"
   ]
  }
 ],
 "metadata": {
  "kernelspec": {
   "display_name": "Python 3",
   "language": "python",
   "name": "python3"
  },
  "language_info": {
   "codemirror_mode": {
    "name": "ipython",
    "version": 3
   },
   "file_extension": ".py",
   "mimetype": "text/x-python",
   "name": "python",
   "nbconvert_exporter": "python",
   "pygments_lexer": "ipython3",
   "version": "3.8.5"
  }
 },
 "nbformat": 4,
 "nbformat_minor": 4
}
